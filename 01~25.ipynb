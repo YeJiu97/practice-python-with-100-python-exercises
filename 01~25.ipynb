{
 "cells": [
  {
   "cell_type": "markdown",
   "id": "027f0a84-0604-4b49-98f5-1988004daf78",
   "metadata": {},
   "source": [
    "## 准备\n",
    "\n",
    "首先需要安装Python：https://www.python.org/\n",
    "\n",
    "接着需要安装编译器：\n",
    "1. Pycharm\n",
    "2. Visual Studio Code\n",
    "\n",
    "中的某一个，或者自己喜欢的其他的某一个编译器。"
   ]
  },
  {
   "cell_type": "markdown",
   "id": "e6b4db36-e2c6-46d7-a9c5-74d573015fa9",
   "metadata": {},
   "source": [
    "## Exercise 01\n",
    "\n",
    "Question: Let's start with easy things first.What will the following code produce?\n",
    "\n",
    "```\n",
    "a = 2\n",
    "\n",
    "a = 4\n",
    "\n",
    "a = 6\n",
    "\n",
    "print(a +a +a)\n",
    "```"
   ]
  },
  {
   "cell_type": "code",
   "execution_count": 1,
   "id": "3ecd79ac-ba7e-4717-bb58-608d59d7923f",
   "metadata": {},
   "outputs": [
    {
     "name": "stdout",
     "output_type": "stream",
     "text": [
      "18\n"
     ]
    }
   ],
   "source": [
    "# print()函数中的a只会采取最新的a的值\n",
    "\n",
    "a = 2\n",
    "a = 4\n",
    "a = 6\n",
    "\n",
    "print(a+a+a)"
   ]
  },
  {
   "cell_type": "markdown",
   "id": "2955922d-bb4f-4abe-baf2-3eb7f9d2ef62",
   "metadata": {},
   "source": [
    "## Exercise 02\n",
    "\n",
    "Question: What's wrong with the following script?\n",
    "\n",
    "```\n",
    "a = 1\n",
    "_a = 2\n",
    "_a2 = 3\n",
    "2a = 4\n",
    "```"
   ]
  },
  {
   "cell_type": "code",
   "execution_count": 3,
   "id": "a222a848-1ef7-4ca8-8a77-6f93f041da74",
   "metadata": {},
   "outputs": [
    {
     "ename": "SyntaxError",
     "evalue": "invalid decimal literal (3020910023.py, line 3)",
     "output_type": "error",
     "traceback": [
      "\u001b[1;36m  Input \u001b[1;32mIn [3]\u001b[1;36m\u001b[0m\n\u001b[1;33m    2a = 4\u001b[0m\n\u001b[1;37m    ^\u001b[0m\n\u001b[1;31mSyntaxError\u001b[0m\u001b[1;31m:\u001b[0m invalid decimal literal\n"
     ]
    }
   ],
   "source": [
    "# 名字不能够采用数字开头，因为这和 数字*变量 会产生冲突\n",
    "\n",
    "2a = 4"
   ]
  },
  {
   "cell_type": "markdown",
   "id": "fc08a187-7c6a-4ed4-8725-a8bf9c94da0b",
   "metadata": {},
   "source": [
    "## Exercise 03\n",
    "\n",
    "```\n",
    "a = 1\n",
    "b = 2\n",
    "print(a == b)\n",
    "print(b == c)\n",
    "```"
   ]
  },
  {
   "cell_type": "code",
   "execution_count": 5,
   "id": "3d191770-dccf-454e-90c0-ed1eeeec96ea",
   "metadata": {},
   "outputs": [
    {
     "name": "stdout",
     "output_type": "stream",
     "text": [
      "False\n"
     ]
    },
    {
     "ename": "NameError",
     "evalue": "name 'c' is not defined",
     "output_type": "error",
     "traceback": [
      "\u001b[1;31m---------------------------------------------------------------------------\u001b[0m",
      "\u001b[1;31mNameError\u001b[0m                                 Traceback (most recent call last)",
      "Input \u001b[1;32mIn [5]\u001b[0m, in \u001b[0;36m<cell line: 5>\u001b[1;34m()\u001b[0m\n\u001b[0;32m      3\u001b[0m b \u001b[38;5;241m=\u001b[39m \u001b[38;5;241m2\u001b[39m\n\u001b[0;32m      4\u001b[0m \u001b[38;5;28mprint\u001b[39m(a \u001b[38;5;241m==\u001b[39m b)\n\u001b[1;32m----> 5\u001b[0m \u001b[38;5;28mprint\u001b[39m(b \u001b[38;5;241m==\u001b[39m \u001b[43mc\u001b[49m)\n",
      "\u001b[1;31mNameError\u001b[0m: name 'c' is not defined"
     ]
    }
   ],
   "source": [
    "# 变量c没有被定义，所以无法进行判断\n",
    "a = 1\n",
    "b = 2\n",
    "print(a == b)\n",
    "print(b == c)"
   ]
  },
  {
   "cell_type": "markdown",
   "id": "4da3a654-ef95-4ba1-80fe-337d19df7fd4",
   "metadata": {},
   "source": [
    "## Exercise 04\n",
    "\n",
    "```\n",
    "Question: Fix the last line so that it outputs the sum of 1 and 2. Please do not change the first two lines, only the last one.\n",
    "\n",
    "a = \"1\"\n",
    "b = 2\n",
    "print(a + b)\n",
    "```"
   ]
  },
  {
   "cell_type": "code",
   "execution_count": 6,
   "id": "b655ae06-0a95-4647-891b-3f15a46fe45a",
   "metadata": {},
   "outputs": [
    {
     "name": "stdout",
     "output_type": "stream",
     "text": [
      "3\n"
     ]
    }
   ],
   "source": [
    "# 使用int()来进行类型转换\n",
    "\n",
    "a = \"1\"\n",
    "b = 2\n",
    "print(int(a) + b)"
   ]
  },
  {
   "cell_type": "markdown",
   "id": "46fd5c31-af35-43a4-8921-de55a33a611a",
   "metadata": {},
   "source": [
    "## Exercise 05\n",
    "\n",
    "Question: Completethe script so that it prints out the second item of the list.\n",
    "\n",
    "```\n",
    "letters = [\"a\", \"b\", \"c\", \"d\", \"e\", \"f\", \"g\", \"h\", \"i\", \"j\"]\n",
    "```"
   ]
  },
  {
   "cell_type": "code",
   "execution_count": 8,
   "id": "f8e25330-bb3a-4212-8ccb-c6bbad8d792b",
   "metadata": {},
   "outputs": [
    {
     "name": "stdout",
     "output_type": "stream",
     "text": [
      "b\n"
     ]
    }
   ],
   "source": [
    "letters = [\"a\", \"b\", \"c\", \"d\", \"e\", \"f\", \"g\", \"h\", \"i\", \"j\"]\n",
    "print(letters[1])"
   ]
  },
  {
   "cell_type": "markdown",
   "id": "8e392c83-2ea8-4291-b083-72150eba76cb",
   "metadata": {},
   "source": [
    "## Exercise 06\n",
    "\n",
    "\n",
    "Question: Please completethe script so that it prints out a list slice containing items d, e, and f.\n",
    "\n",
    "```\n",
    "letters = [\"a\", \"b\", \"c\", \"d\", \"e\", \"f\", \"g\", \"h\", \"i\", \"j\"]\n",
    "```"
   ]
  },
  {
   "cell_type": "code",
   "execution_count": 9,
   "id": "642a2c60-ffee-4b5d-9f66-b1ccb59f044c",
   "metadata": {},
   "outputs": [
    {
     "name": "stdout",
     "output_type": "stream",
     "text": [
      "['d', 'e', 'f']\n"
     ]
    }
   ],
   "source": [
    "letters = [\"a\", \"b\", \"c\", \"d\", \"e\", \"f\", \"g\", \"h\", \"i\", \"j\"]\n",
    "print(letters[3:6])"
   ]
  },
  {
   "cell_type": "markdown",
   "id": "5c0108a4-1bd8-4c93-9482-cb1c49649058",
   "metadata": {},
   "source": [
    "## Exercise 07\n",
    "\n",
    "Question: List slicing is important in various data manipulation activities. Let's do a few more exercises on that.\n",
    "\n",
    "Please complete the script so that it prints out the first three items of list letters.\n",
    "\n",
    "```\n",
    "letters = [\"a\", \"b\", \"c\", \"d\", \"e\", \"f\", \"g\", \"h\", \"i\", \"j\"]\n",
    "```"
   ]
  },
  {
   "cell_type": "code",
   "execution_count": 13,
   "id": "68bfba89-0e34-4e4f-801c-3c73a7525670",
   "metadata": {},
   "outputs": [
    {
     "name": "stdout",
     "output_type": "stream",
     "text": [
      "['a', 'b', 'c']\n"
     ]
    }
   ],
   "source": [
    "letters = [\"a\", \"b\", \"c\", \"d\", \"e\", \"f\", \"g\", \"h\", \"i\", \"j\"]\n",
    "\n",
    "print(letters[0:3])"
   ]
  },
  {
   "cell_type": "markdown",
   "id": "dc2f8365-0dea-4c11-ae84-4277d43ed56d",
   "metadata": {},
   "source": [
    "## Exercise 08\n",
    "\n",
    "Question: Complete the script so that it prints out the letter i  using negative indexing.\n",
    "\n",
    "```\n",
    "letters = [\"a\", \"b\", \"c\", \"d\", \"e\", \"f\", \"g\", \"h\", \"i\", \"j\"]\n",
    "```"
   ]
  },
  {
   "cell_type": "code",
   "execution_count": 14,
   "id": "c59dcc98-fc2b-48a8-98a7-098266262e09",
   "metadata": {},
   "outputs": [
    {
     "name": "stdout",
     "output_type": "stream",
     "text": [
      "i\n"
     ]
    }
   ],
   "source": [
    "letters = [\"a\", \"b\", \"c\", \"d\", \"e\", \"f\", \"g\", \"h\", \"i\", \"j\"]\n",
    "\n",
    "print(letters[-2])"
   ]
  },
  {
   "cell_type": "markdown",
   "id": "24dd8194-2806-463a-95ec-c00dc69ef837",
   "metadata": {},
   "source": [
    "## Exercise 09\n",
    "\n",
    "Question: Complete the script so that it prints out a list slice containing the last three items of the list letters .\n",
    "\n",
    "```\n",
    "letters = [\"a\", \"b\", \"c\", \"d\", \"e\", \"f\", \"g\", \"h\", \"i\", \"j\"]\n",
    "```"
   ]
  },
  {
   "cell_type": "code",
   "execution_count": 19,
   "id": "90ce0ec3-522a-4587-b29b-13f95ff3dc8b",
   "metadata": {},
   "outputs": [
    {
     "name": "stdout",
     "output_type": "stream",
     "text": [
      "['h', 'i', 'j']\n"
     ]
    }
   ],
   "source": [
    "letters = [\"a\", \"b\", \"c\", \"d\", \"e\", \"f\", \"g\", \"h\", \"i\", \"j\"]\n",
    "\n",
    "print(letters[-3:])"
   ]
  },
  {
   "cell_type": "markdown",
   "id": "400d4cfb-e681-4e62-884c-0823100eca0a",
   "metadata": {},
   "source": [
    "## Exercise 10\n",
    "\n",
    "Question: Complete the script so that it prints out a list slice containing letters a, c, e, g, and i.\n",
    "\n",
    "```\n",
    "letters = [\"a\", \"b\", \"c\", \"d\", \"e\", \"f\", \"g\", \"h\", \"i\", \"j\"]\n",
    "```"
   ]
  },
  {
   "cell_type": "code",
   "execution_count": 20,
   "id": "d63ef4b0-6015-420a-b494-c8a37e3bb314",
   "metadata": {},
   "outputs": [
    {
     "name": "stdout",
     "output_type": "stream",
     "text": [
      "['a', 'c', 'e', 'g', 'i']\n"
     ]
    }
   ],
   "source": [
    "letters = [\"a\", \"b\", \"c\", \"d\", \"e\", \"f\", \"g\", \"h\", \"i\", \"j\"]\n",
    "\n",
    "print(letters[::2])"
   ]
  },
  {
   "cell_type": "markdown",
   "id": "504e07b8-e7a3-4f16-ac6a-39d93b7b2eb1",
   "metadata": {},
   "source": [
    "## Exercise 11\n",
    "\n",
    "生成1~20的一个列表"
   ]
  },
  {
   "cell_type": "code",
   "execution_count": 26,
   "id": "d95e6a6a-3a96-44c0-8524-827b27fa48ac",
   "metadata": {},
   "outputs": [
    {
     "data": {
      "text/plain": [
       "[0, 1, 2, 3, 4, 5, 6, 7, 8, 9, 10, 11, 12, 13, 14, 15, 16, 17, 18, 19, 20]"
      ]
     },
     "execution_count": 26,
     "metadata": {},
     "output_type": "execute_result"
    }
   ],
   "source": [
    "# 方案一\n",
    "number_list = [i for i in range(21)]\n",
    "number_list"
   ]
  },
  {
   "cell_type": "code",
   "execution_count": 30,
   "id": "cd2fb8cb-df03-4e8e-b492-28464aa3410f",
   "metadata": {},
   "outputs": [
    {
     "name": "stdout",
     "output_type": "stream",
     "text": [
      "[1, 2, 3, 4, 5, 6, 7, 8, 9, 10, 11, 12, 13, 14, 15, 16, 17, 18, 19, 20]\n"
     ]
    }
   ],
   "source": [
    "# 方案二\n",
    "number_list_2 = range(1,21)\n",
    "print(list(number_list_2))"
   ]
  },
  {
   "cell_type": "markdown",
   "id": "fb9f013f-acaa-4f4c-a12c-fcb429beecc4",
   "metadata": {},
   "source": [
    "## Exercise 12\n",
    "\n",
    "Question: Complete the script so that it produces theexpected output. Please use my_range as input data.\n",
    "\n",
    "```\n",
    "my_range = range(1, 21)\n",
    "```"
   ]
  },
  {
   "cell_type": "code",
   "execution_count": 35,
   "id": "e1168ce9-b55b-4453-800a-a7c3b73399f2",
   "metadata": {},
   "outputs": [
    {
     "name": "stdout",
     "output_type": "stream",
     "text": [
      "[10, 20, 30, 40, 50, 60, 70, 80, 90, 100, 110, 120, 130, 140, 150, 160, 170, 180, 190, 200]\n"
     ]
    }
   ],
   "source": [
    "my_range = [10 * x for x in range(1, 21)]\n",
    "print(my_range)"
   ]
  },
  {
   "cell_type": "markdown",
   "id": "2e942600-8b09-451b-b5a8-86d0a07f227f",
   "metadata": {},
   "source": [
    "## Exercise 13\n",
    "\n",
    "Question: Complete the script, so it generates the expected output using my_range  as input data. Please note that the items of the expected list output are all strings.\n",
    "\n",
    "my_range = range(1, 21)"
   ]
  },
  {
   "cell_type": "code",
   "execution_count": 38,
   "id": "7ce33775-4a18-4e77-ac3a-b4dfaff05506",
   "metadata": {},
   "outputs": [
    {
     "name": "stdout",
     "output_type": "stream",
     "text": [
      "['1', '2', '3', '4', '5', '6', '7', '8', '9', '10', '11', '12', '13', '14', '15', '16', '17', '18', '19', '20']\n"
     ]
    }
   ],
   "source": [
    "my_range = range(1, 21)\n",
    "print(list(map(str, my_range)))  # map可以将(a, b)中的a和b进行映射"
   ]
  },
  {
   "cell_type": "markdown",
   "id": "a8fbc95c-bc7a-41b4-8aa5-6d5687ac8f53",
   "metadata": {},
   "source": [
    "## Exercise 14\n",
    "\n",
    "Question: Complete the script so that it removes duplicate items from the list a .\n",
    "\n",
    "```\n",
    "a = [\"1\", 1, \"1\", 2]\n",
    "```"
   ]
  },
  {
   "cell_type": "code",
   "execution_count": 41,
   "id": "b823111e-ff2e-46b4-a959-e083e2a0e797",
   "metadata": {},
   "outputs": [
    {
     "name": "stdout",
     "output_type": "stream",
     "text": [
      "['1', 1, 2]\n"
     ]
    }
   ],
   "source": [
    "a = [\"1\", 1, \"1\", 2]\n",
    "print(list(set(a)))"
   ]
  },
  {
   "cell_type": "markdown",
   "id": "d2ea7361-e8e5-416a-8352-5ecd2e0e659c",
   "metadata": {},
   "source": [
    "## Exercise 15\n",
    "\n",
    "Question: Create a dictionary that contains the keys a and b and their respective values1 and 2."
   ]
  },
  {
   "cell_type": "code",
   "execution_count": 43,
   "id": "e072d27a-7a1a-47c9-b09a-7f15ae8b169f",
   "metadata": {},
   "outputs": [
    {
     "data": {
      "text/plain": [
       "{'a': 1, 'b': 2}"
      ]
     },
     "execution_count": 43,
     "metadata": {},
     "output_type": "execute_result"
    }
   ],
   "source": [
    "dict_created = {\"a\":1, \"b\":2}\n",
    "dict_created"
   ]
  },
  {
   "cell_type": "code",
   "execution_count": 44,
   "id": "41b89fa5-3b76-460c-9b5b-301f991fbfee",
   "metadata": {},
   "outputs": [
    {
     "data": {
      "text/plain": [
       "{'a': 1, 'b': 2}"
      ]
     },
     "execution_count": 44,
     "metadata": {},
     "output_type": "execute_result"
    }
   ],
   "source": [
    "dict_created_2 = dict( a = 1, b = 2)\n",
    "dict_created_2"
   ]
  },
  {
   "cell_type": "markdown",
   "id": "f4c309ee-0566-4491-ae8e-fd2ad29802ab",
   "metadata": {},
   "source": [
    "## Exercise 16\n",
    "\n",
    "Question: Please completethe script so that it prints out the value of key b.\n",
    "\n",
    "```\n",
    "d = {\"a\": 1, \"b\": 2}\n",
    "```"
   ]
  },
  {
   "cell_type": "code",
   "execution_count": 51,
   "id": "3e8cedf1-c36c-470e-bfcd-0ff78d29eb1f",
   "metadata": {},
   "outputs": [
    {
     "name": "stdout",
     "output_type": "stream",
     "text": [
      "2\n"
     ]
    }
   ],
   "source": [
    "d = {\"a\": 1, \"b\": 2}\n",
    "print(d[\"b\"])"
   ]
  },
  {
   "cell_type": "markdown",
   "id": "6eb35236-6507-40ca-b870-873aeeb46a13",
   "metadata": {},
   "source": [
    "## Exercise 17\n",
    "\n",
    "Question: Calculate the sum of the values of keys a and b.\n",
    "\n",
    "```\n",
    "d = {\"a\": 1, \"b\": 2, \"c\":3}\n",
    "```"
   ]
  },
  {
   "cell_type": "code",
   "execution_count": 55,
   "id": "1cdecc7e-9569-47a8-93c4-b8cc9c498b14",
   "metadata": {},
   "outputs": [
    {
     "name": "stdout",
     "output_type": "stream",
     "text": [
      "3\n"
     ]
    }
   ],
   "source": [
    "d = {\"a\": 1, \"b\": 2, \"c\":3}\n",
    "\n",
    "print(d[\"b\"] + d[\"a\"])"
   ]
  },
  {
   "cell_type": "markdown",
   "id": "46405746-9dc7-4fb8-ac24-6cdce52877b3",
   "metadata": {},
   "source": [
    "## Exercise 18\n",
    "\n",
    "```\n",
    "d = {\"Name\": \"John\", \"Surname\": \"Smith\"}\n",
    "print(d[\"Smith\"])\n",
    "```"
   ]
  },
  {
   "cell_type": "code",
   "execution_count": 58,
   "id": "57914f9f-0226-4c94-8948-5bcc0f73acc0",
   "metadata": {},
   "outputs": [
    {
     "name": "stdout",
     "output_type": "stream",
     "text": [
      "Smith\n"
     ]
    }
   ],
   "source": [
    "# There is no key gains value as Smith\n",
    "d = {\"Name\": \"John\", \"Surname\": \"Smith\"}\n",
    "print(d[\"Surname\"])"
   ]
  },
  {
   "cell_type": "markdown",
   "id": "abd5f1bd-2dd0-4ed8-904c-f77e80e8410c",
   "metadata": {},
   "source": [
    "## Exercise 19\n",
    "\n",
    "Question: Add a new pair of key (e.g. c ) and value (e.g. 3 ) to the dictionary and print out the new dictionary.\n",
    "\n",
    "```\n",
    "d = {\"a\": 1, \"b\": 2}\n",
    "```"
   ]
  },
  {
   "cell_type": "code",
   "execution_count": 59,
   "id": "f3175f53-686b-4cf1-b011-0de55c10eacf",
   "metadata": {},
   "outputs": [
    {
     "name": "stdout",
     "output_type": "stream",
     "text": [
      "{'a': 1, 'b': 2, 'c': 3}\n"
     ]
    }
   ],
   "source": [
    "d = {\"a\": 1, \"b\": 2}\n",
    "d[\"c\"] = 3\n",
    "\n",
    "print(d)"
   ]
  },
  {
   "cell_type": "markdown",
   "id": "5c89a1cf-8fa7-475a-8919-c9e71f7324b3",
   "metadata": {},
   "source": [
    "## Exercise 20\n",
    "\n",
    "Question: Calculate the sum of all dictionary values.\n",
    "\n",
    "```\n",
    "d = {\"a\": 1, \"b\": 2, \"c\": 3}\n",
    "```"
   ]
  },
  {
   "cell_type": "code",
   "execution_count": 62,
   "id": "2a06acb0-9ebd-47f1-8aff-0942eb1c55f3",
   "metadata": {},
   "outputs": [
    {
     "name": "stdout",
     "output_type": "stream",
     "text": [
      "6\n"
     ]
    }
   ],
   "source": [
    "d = {\"a\": 1, \"b\": 2, \"c\": 3}\n",
    "print(sum(d.values()))"
   ]
  },
  {
   "cell_type": "markdown",
   "id": "6ccbe3fb-66d3-45a4-8dee-f2c79fb5083f",
   "metadata": {},
   "source": [
    "## Exercise 21\n",
    "\n",
    "Question: Filter the dictionary by removing all items with a value of greater than 1.\n",
    "\n",
    "```\n",
    "d = {\"a\": 1, \"b\": 2, \"c\": 3}\n",
    "```"
   ]
  },
  {
   "cell_type": "code",
   "execution_count": 67,
   "id": "3dea3153-28e4-460b-988e-bc26d6766329",
   "metadata": {},
   "outputs": [
    {
     "name": "stdout",
     "output_type": "stream",
     "text": [
      "{'a': 1}\n"
     ]
    }
   ],
   "source": [
    "d = {\"a\": 1, \"b\": 2, \"c\": 3}\n",
    "\n",
    "d = dict((key, value) for key, value in d.items() if value <= 1)\n",
    "\n",
    "print(d)"
   ]
  },
  {
   "cell_type": "markdown",
   "id": "42276e1a-4b2e-463c-beca-2ffcb0bf4024",
   "metadata": {},
   "source": [
    "## Exercise 22\n",
    "\n",
    "Create a dictionary of keys a, b, c where each key has as value a list from 1 to 10, 11 to 20, and 21 to 30, respectively. Then print out the dictionary in a nice format."
   ]
  },
  {
   "cell_type": "code",
   "execution_count": 68,
   "id": "a89a957c-4228-494b-8058-ea5d9a374e02",
   "metadata": {},
   "outputs": [
    {
     "name": "stdout",
     "output_type": "stream",
     "text": [
      "{'a': [1, 2, 3, 4, 5, 6, 7, 8, 9, 10],\n",
      " 'b': [11, 12, 13, 14, 15, 16, 17, 18, 19, 20],\n",
      " 'c': [21, 22, 23, 24, 25, 26, 27, 28, 29, 30]}\n"
     ]
    }
   ],
   "source": [
    "from pprint import pprint\n",
    "\n",
    "d = {\"a\":list(range(1, 11)), \"b\":list(range(11, 21)), \"c\":list(range(21, 31))}\n",
    "pprint(d)"
   ]
  },
  {
   "cell_type": "markdown",
   "id": "ff79ada0-8901-4801-86cb-daa04e53498b",
   "metadata": {},
   "source": [
    "## Exercise 23\n",
    "\n",
    "Question: Access the third value of key b from the dictionary.\n",
    "\n",
    "```\n",
    "from pprint import pprint\n",
    "\n",
    "d = dict(a = list(range(1, 11)), b = list(range(11, 21)), c = list(range(21, 31)))\n",
    "```"
   ]
  },
  {
   "cell_type": "code",
   "execution_count": 69,
   "id": "468d4ca0-54fc-4f12-aa32-f38a906e0f55",
   "metadata": {},
   "outputs": [
    {
     "name": "stdout",
     "output_type": "stream",
     "text": [
      "13\n"
     ]
    }
   ],
   "source": [
    "from pprint import pprint\n",
    "\n",
    "d = dict(a = list(range(1, 11)), b = list(range(11, 21)), c = list(range(21, 31)))\n",
    "\n",
    "pprint(d['b'][2])"
   ]
  },
  {
   "cell_type": "code",
   "execution_count": 70,
   "id": "507fced8-8881-4777-8ad6-06b5eb23421d",
   "metadata": {},
   "outputs": [
    {
     "name": "stdout",
     "output_type": "stream",
     "text": [
      "13\n"
     ]
    }
   ],
   "source": [
    "d = dict(a = list(range(1, 11)), b = list(range(11, 21)), c = list(range(21, 31)))\n",
    "\n",
    "print(d['b'][2])"
   ]
  },
  {
   "cell_type": "markdown",
   "id": "9c2cbe1a-249c-4adb-af9e-029e89879deb",
   "metadata": {},
   "source": [
    "## Exercise 24\n",
    "\n",
    "Question: Please complete the script so that it prints out the expected output.\n",
    "\n",
    "```\n",
    "d = dict(a = list(range(1, 11)), b = list(range(11, 21)), c = list(range(21, 31)))\n",
    "```"
   ]
  },
  {
   "cell_type": "code",
   "execution_count": 73,
   "id": "bb993825-d3f7-4bc8-a7c2-304931f865a4",
   "metadata": {},
   "outputs": [
    {
     "name": "stdout",
     "output_type": "stream",
     "text": [
      "a has values [1, 2, 3, 4, 5, 6, 7, 8, 9, 10]\n",
      "b has values [11, 12, 13, 14, 15, 16, 17, 18, 19, 20]\n",
      "c has values [21, 22, 23, 24, 25, 26, 27, 28, 29, 30]\n"
     ]
    }
   ],
   "source": [
    "d = dict(a = list(range(1, 11)), b = list(range(11, 21)), c = list(range(21, 31)))\n",
    "\n",
    "for key, value in d.items():\n",
    "    print(key, \"has values\", value)"
   ]
  },
  {
   "cell_type": "markdown",
   "id": "c445edab-cfef-4f76-9cc9-6d16a711a59c",
   "metadata": {},
   "source": [
    "## Exercise 25\n",
    "\n",
    "输出所有的英文字母"
   ]
  },
  {
   "cell_type": "code",
   "execution_count": 74,
   "id": "809a32a0-20b5-4ac4-86da-2401725eaac1",
   "metadata": {},
   "outputs": [
    {
     "name": "stdout",
     "output_type": "stream",
     "text": [
      "a\n",
      "b\n",
      "c\n",
      "d\n",
      "e\n",
      "f\n",
      "g\n",
      "h\n",
      "i\n",
      "j\n",
      "k\n",
      "l\n",
      "m\n",
      "n\n",
      "o\n",
      "p\n",
      "q\n",
      "r\n",
      "s\n",
      "t\n",
      "u\n",
      "v\n",
      "w\n",
      "x\n",
      "y\n",
      "z\n"
     ]
    }
   ],
   "source": [
    "import string\n",
    "\n",
    "for letter in string.ascii_lowercase:\n",
    "    print(letter)"
   ]
  },
  {
   "cell_type": "code",
   "execution_count": 75,
   "id": "f6cffa0d-b559-4097-a2d0-34f2f1998d9f",
   "metadata": {},
   "outputs": [
    {
     "name": "stdout",
     "output_type": "stream",
     "text": [
      "A\n",
      "B\n",
      "C\n",
      "D\n",
      "E\n",
      "F\n",
      "G\n",
      "H\n",
      "I\n",
      "J\n",
      "K\n",
      "L\n",
      "M\n",
      "N\n",
      "O\n",
      "P\n",
      "Q\n",
      "R\n",
      "S\n",
      "T\n",
      "U\n",
      "V\n",
      "W\n",
      "X\n",
      "Y\n",
      "Z\n"
     ]
    }
   ],
   "source": [
    "import string\n",
    "\n",
    "for letter in string.ascii_uppercase:\n",
    "    print(letter)"
   ]
  }
 ],
 "metadata": {
  "kernelspec": {
   "display_name": "Python 3 (ipykernel)",
   "language": "python",
   "name": "python3"
  },
  "language_info": {
   "codemirror_mode": {
    "name": "ipython",
    "version": 3
   },
   "file_extension": ".py",
   "mimetype": "text/x-python",
   "name": "python",
   "nbconvert_exporter": "python",
   "pygments_lexer": "ipython3",
   "version": "3.10.5"
  }
 },
 "nbformat": 4,
 "nbformat_minor": 5
}
