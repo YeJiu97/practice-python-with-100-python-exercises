{
 "cells": [
  {
   "cell_type": "markdown",
   "id": "f7da177a-3423-4632-b3d1-6e0783106f44",
   "metadata": {},
   "source": [
    "## Exercise 76\n",
    "\n",
    "打印今天的日期。"
   ]
  },
  {
   "cell_type": "code",
   "execution_count": 1,
   "id": "0549d468-b0ee-4092-949a-e6927686c57e",
   "metadata": {},
   "outputs": [
    {
     "name": "stdout",
     "output_type": "stream",
     "text": [
      "Today is Saturday, March, 25, 2023\n"
     ]
    }
   ],
   "source": [
    "from datetime import datetime\n",
    "\n",
    "print(datetime.now().strftime(\"Today is %A, %B, %d, %Y\"))"
   ]
  },
  {
   "cell_type": "markdown",
   "id": "f044ec9a-10ee-4f7f-b302-a241c052c5a1",
   "metadata": {},
   "source": [
    "## Exercise 77"
   ]
  },
  {
   "cell_type": "markdown",
   "id": "b9f65e5c-93df-42aa-a5ed-c003be5fd01c",
   "metadata": {},
   "source": [
    "Question: Create a script that asks the user to enter their age, and the script calculates the user's year of birth and prints it out in a string like in the expected output. Please make sure you generate the current year dynamically.\n",
    "\n",
    "Expected output: \n",
    "\n",
    "We think you were born back in 1988"
   ]
  },
  {
   "cell_type": "code",
   "execution_count": 3,
   "id": "4c976906-9e19-415f-a5b5-7a250aece3f0",
   "metadata": {},
   "outputs": [
    {
     "name": "stdin",
     "output_type": "stream",
     "text": [
      "Please enter your age 20\n"
     ]
    },
    {
     "name": "stdout",
     "output_type": "stream",
     "text": [
      "I think your birth year is 2003\n"
     ]
    }
   ],
   "source": [
    "age = int(input(\"Please enter your age\"))\n",
    "\n",
    "print(f\"I think your birth year is {2023 - age}\")"
   ]
  },
  {
   "cell_type": "markdown",
   "id": "5a465720-41bc-4d66-ad4d-e98e1fa0b58c",
   "metadata": {},
   "source": [
    "## Exercise 78"
   ]
  },
  {
   "cell_type": "markdown",
   "id": "7259004e-fcbe-4490-8dd5-ef0ebed8f752",
   "metadata": {},
   "source": [
    "Password generator."
   ]
  },
  {
   "cell_type": "code",
   "execution_count": 6,
   "id": "d7fc71d2-d248-49cc-bde8-d75a827bd535",
   "metadata": {},
   "outputs": [
    {
     "name": "stdout",
     "output_type": "stream",
     "text": [
      "Kg?k564&R)\n"
     ]
    }
   ],
   "source": [
    "import random\n",
    "\n",
    "characters = \"abcdefghijklmnopqrstuvwxyz01234567890ABCDEFGHIJKLMNOPQRSTUVWXYZ!@#$%^&*()?\"\n",
    "chosen = random.sample(characters, 10)\n",
    "\n",
    "password = \"\".join(chosen)\n",
    "print(password)"
   ]
  },
  {
   "cell_type": "markdown",
   "id": "75f55355-d324-418e-a609-67a2cb532a6d",
   "metadata": {},
   "source": [
    "## Exercise 79\n",
    "\n",
    "Password Checker"
   ]
  },
  {
   "cell_type": "code",
   "execution_count": 10,
   "id": "034bdb2e-9e68-4795-b689-0429d0695ae7",
   "metadata": {},
   "outputs": [
    {
     "name": "stdin",
     "output_type": "stream",
     "text": [
      "Enter new password sdfaf1234ad)(*\n"
     ]
    },
    {
     "name": "stdout",
     "output_type": "stream",
     "text": [
      "Password is invalid\n"
     ]
    }
   ],
   "source": [
    "while True:\n",
    "    pws = input(\"Enter new password\")\n",
    "    \n",
    "    if any(i.isdigit() for i in pws) and any(i.isupper() for i in pws) and len(pws) > 5:\n",
    "        print(\"Password is valid\")\n",
    "    else:\n",
    "        print(\"Password is invalid\")\n",
    "    \n",
    "    break"
   ]
  },
  {
   "cell_type": "markdown",
   "id": "16c9d2f7-b930-433f-a04d-584440735560",
   "metadata": {},
   "source": [
    "## Exercise 80\n",
    "\n",
    "Advanced password checker"
   ]
  },
  {
   "cell_type": "code",
   "execution_count": 11,
   "id": "cca03374-6a70-4689-bf5e-34f47aebbb93",
   "metadata": {},
   "outputs": [
    {
     "name": "stdin",
     "output_type": "stream",
     "text": [
      "Enter password:  2313\n"
     ]
    },
    {
     "name": "stdout",
     "output_type": "stream",
     "text": [
      "Please check the following: \n",
      "You need at least one uppercase letter\n",
      "You need at least 5 characters\n"
     ]
    },
    {
     "name": "stdin",
     "output_type": "stream",
     "text": [
      "Enter password:  lkjdf)(*lker1PILJ123\n"
     ]
    },
    {
     "name": "stdout",
     "output_type": "stream",
     "text": [
      "Password is fine\n"
     ]
    }
   ],
   "source": [
    "while True:\n",
    "    notes = []\n",
    "    psw = input(\"Enter password: \")\n",
    "    if not any(i.isdigit() for i in psw):\n",
    "        notes.append(\"You need at least one number\")\n",
    "    if not any(i.isupper() for i in psw):\n",
    "        notes.append(\"You need at least one uppercase letter\")\n",
    "    if len(psw) < 5:\n",
    "        notes.append(\"You need at least 5 characters\")\n",
    "    if len(notes) == 0:\n",
    "        print(\"Password is fine\")\n",
    "        break\n",
    "    else:\n",
    "        print(\"Please check the following: \")\n",
    "        for note in notes:\n",
    "            print(note)"
   ]
  },
  {
   "cell_type": "markdown",
   "id": "fd406c0d-3533-44f8-8e62-f4cfa6e1dd3f",
   "metadata": {},
   "source": [
    "## Exercise 81\n",
    "\n",
    "Advanced username and password checker"
   ]
  },
  {
   "cell_type": "code",
   "execution_count": 14,
   "id": "2459e1db-8492-48b5-aebf-05693723c97c",
   "metadata": {},
   "outputs": [
    {
     "name": "stdin",
     "output_type": "stream",
     "text": [
      "Enter username: qekwrjq\n"
     ]
    },
    {
     "name": "stdout",
     "output_type": "stream",
     "text": [
      "Username is fine\n"
     ]
    },
    {
     "name": "stdin",
     "output_type": "stream",
     "text": [
      "Enter password: ljdsf-0)1LK\n"
     ]
    },
    {
     "name": "stdout",
     "output_type": "stream",
     "text": [
      "Password is fine\n"
     ]
    }
   ],
   "source": [
    "while True:\n",
    "    usr = input(\"Enter username:\")\n",
    "    \n",
    "    with open(\"users.txt\", \"r\") as file:\n",
    "        users = file.readlines()\n",
    "        users = [i.strip(\"\\n\") for i in users]\n",
    "    \n",
    "    if usr in users:\n",
    "        print(\"Username exists\")\n",
    "        continue\n",
    "    else:\n",
    "        print(\"Username is fine\")\n",
    "        break\n",
    "\n",
    "while True:\n",
    "    notes = []\n",
    "    psw = input(\"Enter password:\")\n",
    "    if not any(i.isdigit() for i in psw):\n",
    "        notes.append(\"You need at least one number\")\n",
    "    if not any(i.isupper() for i in psw):\n",
    "        notes.append(\"You need at least one uppercase letter\")\n",
    "    if len(psw) < 5:\n",
    "        notes.append(\"You need at least 5 characters\")\n",
    "    if len(notes) == 0:\n",
    "        print(\"Password is fine\")\n",
    "        break"
   ]
  },
  {
   "cell_type": "markdown",
   "id": "918aecbb-8d14-47dc-9c8c-c461d0fad252",
   "metadata": {},
   "source": [
    "## Exercise 82\n",
    "\n",
    "Question:Use Python to calculate the distance in kilometers between Jupiter and Sun on January 1, 1230.\n",
    "\n",
    "Expected output:\n",
    "```\n",
    "758085657.5026425\n",
    "```"
   ]
  },
  {
   "cell_type": "code",
   "execution_count": 15,
   "id": "16902469-962c-4343-a96b-e3422b7c1f70",
   "metadata": {},
   "outputs": [
    {
     "name": "stdout",
     "output_type": "stream",
     "text": [
      "758085657.5026425\n"
     ]
    }
   ],
   "source": [
    "import ephem\n",
    "jupiter = ephem.Jupiter()\n",
    "jupiter.compute('1230/1/1')\n",
    "distance_au_units = jupiter.sun_distance\n",
    "distance_km = distance_au_units * 149597870.691\n",
    "print(distance_km)"
   ]
  },
  {
   "cell_type": "markdown",
   "id": "9171276f-24bd-41be-adf0-ff39e61e15d4",
   "metadata": {},
   "source": [
    "## Exercise 83"
   ]
  },
  {
   "cell_type": "code",
   "execution_count": 16,
   "id": "5a324bfa-8bb4-4564-ac0d-658ac35a9103",
   "metadata": {},
   "outputs": [
    {
     "name": "stdout",
     "output_type": "stream",
     "text": [
      "Width: 1920,  Height: 1080\n"
     ]
    }
   ],
   "source": [
    "from screeninfo import get_monitors\n",
    "\n",
    "width=get_monitors()[0].width\n",
    "height=get_monitors()[0].height\n",
    "\n",
    "print(\"Width: %s,  Height: %s\" % (width, height))"
   ]
  },
  {
   "cell_type": "markdown",
   "id": "74c188ea-ff06-4f63-92d2-119b92c650f9",
   "metadata": {},
   "source": [
    "## Exercise 84"
   ]
  },
  {
   "cell_type": "code",
   "execution_count": 24,
   "id": "b8fe2794-b70f-41fc-8e2d-d4f274020b6b",
   "metadata": {},
   "outputs": [
    {
     "ename": "GLException",
     "evalue": "(0x502): Invalid operation. The specified operation is not allowed in the current state.",
     "output_type": "error",
     "traceback": [
      "\u001b[1;31m---------------------------------------------------------------------------\u001b[0m",
      "\u001b[1;31mGLException\u001b[0m                               Traceback (most recent call last)",
      "Input \u001b[1;32mIn [24]\u001b[0m, in \u001b[0;36m<cell line: 16>\u001b[1;34m()\u001b[0m\n\u001b[0;32m     13\u001b[0m     window\u001b[38;5;241m.\u001b[39mclear()\n\u001b[0;32m     14\u001b[0m     label\u001b[38;5;241m.\u001b[39mdraw()\n\u001b[1;32m---> 16\u001b[0m \u001b[43mpyglet\u001b[49m\u001b[38;5;241;43m.\u001b[39;49m\u001b[43mapp\u001b[49m\u001b[38;5;241;43m.\u001b[39;49m\u001b[43mrun\u001b[49m\u001b[43m(\u001b[49m\u001b[43m)\u001b[49m\n",
      "File \u001b[1;32m~\\AppData\\Local\\Programs\\Python\\Python310\\lib\\site-packages\\pyglet\\app\\__init__.py:107\u001b[0m, in \u001b[0;36mrun\u001b[1;34m(interval)\u001b[0m\n\u001b[0;32m     99\u001b[0m \u001b[38;5;28;01mdef\u001b[39;00m \u001b[38;5;21mrun\u001b[39m(interval\u001b[38;5;241m=\u001b[39m\u001b[38;5;241m1\u001b[39m\u001b[38;5;241m/\u001b[39m\u001b[38;5;241m60\u001b[39m):\n\u001b[0;32m    100\u001b[0m     \u001b[38;5;124;03m\"\"\"Begin processing events, scheduled functions and window updates.\u001b[39;00m\n\u001b[0;32m    101\u001b[0m \n\u001b[0;32m    102\u001b[0m \u001b[38;5;124;03m    This is a convenience function, equivalent to::\u001b[39;00m\n\u001b[1;32m   (...)\u001b[0m\n\u001b[0;32m    105\u001b[0m \n\u001b[0;32m    106\u001b[0m \u001b[38;5;124;03m    \"\"\"\u001b[39;00m\n\u001b[1;32m--> 107\u001b[0m     \u001b[43mevent_loop\u001b[49m\u001b[38;5;241;43m.\u001b[39;49m\u001b[43mrun\u001b[49m\u001b[43m(\u001b[49m\u001b[43minterval\u001b[49m\u001b[43m)\u001b[49m\n",
      "File \u001b[1;32m~\\AppData\\Local\\Programs\\Python\\Python310\\lib\\site-packages\\pyglet\\app\\base.py:184\u001b[0m, in \u001b[0;36mEventLoop.run\u001b[1;34m(self, interval)\u001b[0m\n\u001b[0;32m    181\u001b[0m \u001b[38;5;28mself\u001b[39m\u001b[38;5;241m.\u001b[39mis_running \u001b[38;5;241m=\u001b[39m \u001b[38;5;28;01mTrue\u001b[39;00m\n\u001b[0;32m    183\u001b[0m \u001b[38;5;28;01mwhile\u001b[39;00m \u001b[38;5;129;01mnot\u001b[39;00m \u001b[38;5;28mself\u001b[39m\u001b[38;5;241m.\u001b[39mhas_exit:\n\u001b[1;32m--> 184\u001b[0m     timeout \u001b[38;5;241m=\u001b[39m \u001b[38;5;28;43mself\u001b[39;49m\u001b[38;5;241;43m.\u001b[39;49m\u001b[43midle\u001b[49m\u001b[43m(\u001b[49m\u001b[43m)\u001b[49m\n\u001b[0;32m    185\u001b[0m     platform_event_loop\u001b[38;5;241m.\u001b[39mstep(timeout)\n\u001b[0;32m    187\u001b[0m \u001b[38;5;28mself\u001b[39m\u001b[38;5;241m.\u001b[39mis_running \u001b[38;5;241m=\u001b[39m \u001b[38;5;28;01mFalse\u001b[39;00m\n",
      "File \u001b[1;32m~\\AppData\\Local\\Programs\\Python\\Python310\\lib\\site-packages\\pyglet\\app\\base.py:245\u001b[0m, in \u001b[0;36mEventLoop.idle\u001b[1;34m(self)\u001b[0m\n\u001b[0;32m    220\u001b[0m \u001b[38;5;124;03m\"\"\"Called during each iteration of the event loop.\u001b[39;00m\n\u001b[0;32m    221\u001b[0m \n\u001b[0;32m    222\u001b[0m \u001b[38;5;124;03mThe method is called immediately after any window events (i.e., after\u001b[39;00m\n\u001b[1;32m   (...)\u001b[0m\n\u001b[0;32m    242\u001b[0m \u001b[38;5;124;03m    be called again, or `None` to block for user input.\u001b[39;00m\n\u001b[0;32m    243\u001b[0m \u001b[38;5;124;03m\"\"\"\u001b[39;00m\n\u001b[0;32m    244\u001b[0m dt \u001b[38;5;241m=\u001b[39m \u001b[38;5;28mself\u001b[39m\u001b[38;5;241m.\u001b[39mclock\u001b[38;5;241m.\u001b[39mupdate_time()\n\u001b[1;32m--> 245\u001b[0m \u001b[38;5;28;43mself\u001b[39;49m\u001b[38;5;241;43m.\u001b[39;49m\u001b[43mclock\u001b[49m\u001b[38;5;241;43m.\u001b[39;49m\u001b[43mcall_scheduled_functions\u001b[49m\u001b[43m(\u001b[49m\u001b[43mdt\u001b[49m\u001b[43m)\u001b[49m\n\u001b[0;32m    247\u001b[0m \u001b[38;5;66;03m# Update timout\u001b[39;00m\n\u001b[0;32m    248\u001b[0m \u001b[38;5;28;01mreturn\u001b[39;00m \u001b[38;5;28mself\u001b[39m\u001b[38;5;241m.\u001b[39mclock\u001b[38;5;241m.\u001b[39mget_sleep_time(\u001b[38;5;28;01mTrue\u001b[39;00m)\n",
      "File \u001b[1;32m~\\AppData\\Local\\Programs\\Python\\Python310\\lib\\site-packages\\pyglet\\clock.py:277\u001b[0m, in \u001b[0;36mClock.call_scheduled_functions\u001b[1;34m(self, dt)\u001b[0m\n\u001b[0;32m    275\u001b[0m \u001b[38;5;66;03m# execute the callback\u001b[39;00m\n\u001b[0;32m    276\u001b[0m \u001b[38;5;28;01mtry\u001b[39;00m:\n\u001b[1;32m--> 277\u001b[0m     item\u001b[38;5;241m.\u001b[39mfunc(now \u001b[38;5;241m-\u001b[39m item\u001b[38;5;241m.\u001b[39mlast_ts, \u001b[38;5;241m*\u001b[39mitem\u001b[38;5;241m.\u001b[39margs, \u001b[38;5;241m*\u001b[39m\u001b[38;5;241m*\u001b[39mitem\u001b[38;5;241m.\u001b[39mkwargs)\n\u001b[0;32m    278\u001b[0m \u001b[38;5;28;01mexcept\u001b[39;00m \u001b[38;5;167;01mReferenceError\u001b[39;00m:\n\u001b[0;32m    279\u001b[0m     \u001b[38;5;28;01mpass\u001b[39;00m    \u001b[38;5;66;03m# weakly-referenced object no longer exists.\u001b[39;00m\n",
      "File \u001b[1;32m~\\AppData\\Local\\Programs\\Python\\Python310\\lib\\site-packages\\pyglet\\app\\base.py:154\u001b[0m, in \u001b[0;36mEventLoop._redraw_windows\u001b[1;34m(dt)\u001b[0m\n\u001b[0;32m    152\u001b[0m \u001b[38;5;28;01mfor\u001b[39;00m window \u001b[38;5;129;01min\u001b[39;00m app\u001b[38;5;241m.\u001b[39mwindows:\n\u001b[0;32m    153\u001b[0m     window\u001b[38;5;241m.\u001b[39mswitch_to()\n\u001b[1;32m--> 154\u001b[0m     \u001b[43mwindow\u001b[49m\u001b[38;5;241;43m.\u001b[39;49m\u001b[43mdispatch_event\u001b[49m\u001b[43m(\u001b[49m\u001b[38;5;124;43m'\u001b[39;49m\u001b[38;5;124;43mon_draw\u001b[39;49m\u001b[38;5;124;43m'\u001b[39;49m\u001b[43m)\u001b[49m\n\u001b[0;32m    155\u001b[0m     window\u001b[38;5;241m.\u001b[39mdispatch_event(\u001b[38;5;124m'\u001b[39m\u001b[38;5;124mon_refresh\u001b[39m\u001b[38;5;124m'\u001b[39m, dt)\n\u001b[0;32m    156\u001b[0m     window\u001b[38;5;241m.\u001b[39mflip()\n",
      "File \u001b[1;32m~\\AppData\\Local\\Programs\\Python\\Python310\\lib\\site-packages\\pyglet\\window\\__init__.py:1363\u001b[0m, in \u001b[0;36mBaseWindow.dispatch_event\u001b[1;34m(self, *args)\u001b[0m\n\u001b[0;32m   1361\u001b[0m \u001b[38;5;28;01mdef\u001b[39;00m \u001b[38;5;21mdispatch_event\u001b[39m(\u001b[38;5;28mself\u001b[39m, \u001b[38;5;241m*\u001b[39margs):\n\u001b[0;32m   1362\u001b[0m     \u001b[38;5;28;01mif\u001b[39;00m \u001b[38;5;129;01mnot\u001b[39;00m \u001b[38;5;28mself\u001b[39m\u001b[38;5;241m.\u001b[39m_enable_event_queue \u001b[38;5;129;01mor\u001b[39;00m \u001b[38;5;28mself\u001b[39m\u001b[38;5;241m.\u001b[39m_allow_dispatch_event:\n\u001b[1;32m-> 1363\u001b[0m         \u001b[38;5;28;43msuper\u001b[39;49m\u001b[43m(\u001b[49m\u001b[43m)\u001b[49m\u001b[38;5;241;43m.\u001b[39;49m\u001b[43mdispatch_event\u001b[49m\u001b[43m(\u001b[49m\u001b[38;5;241;43m*\u001b[39;49m\u001b[43margs\u001b[49m\u001b[43m)\u001b[49m\n\u001b[0;32m   1364\u001b[0m     \u001b[38;5;28;01melse\u001b[39;00m:\n\u001b[0;32m   1365\u001b[0m         \u001b[38;5;28mself\u001b[39m\u001b[38;5;241m.\u001b[39m_event_queue\u001b[38;5;241m.\u001b[39mappend(args)\n",
      "File \u001b[1;32m~\\AppData\\Local\\Programs\\Python\\Python310\\lib\\site-packages\\pyglet\\event.py:415\u001b[0m, in \u001b[0;36mEventDispatcher.dispatch_event\u001b[1;34m(self, event_type, *args)\u001b[0m\n\u001b[0;32m    413\u001b[0m \u001b[38;5;28;01mtry\u001b[39;00m:\n\u001b[0;32m    414\u001b[0m     invoked \u001b[38;5;241m=\u001b[39m \u001b[38;5;28;01mTrue\u001b[39;00m\n\u001b[1;32m--> 415\u001b[0m     \u001b[38;5;28;01mif\u001b[39;00m \u001b[43mhandler\u001b[49m\u001b[43m(\u001b[49m\u001b[38;5;241;43m*\u001b[39;49m\u001b[43margs\u001b[49m\u001b[43m)\u001b[49m:\n\u001b[0;32m    416\u001b[0m         \u001b[38;5;28;01mreturn\u001b[39;00m EVENT_HANDLED\n\u001b[0;32m    417\u001b[0m \u001b[38;5;28;01mexcept\u001b[39;00m \u001b[38;5;167;01mTypeError\u001b[39;00m \u001b[38;5;28;01mas\u001b[39;00m exception:\n",
      "Input \u001b[1;32mIn [24]\u001b[0m, in \u001b[0;36mon_draw\u001b[1;34m()\u001b[0m\n\u001b[0;32m     11\u001b[0m \u001b[38;5;129m@window\u001b[39m\u001b[38;5;241m.\u001b[39mevent\n\u001b[0;32m     12\u001b[0m \u001b[38;5;28;01mdef\u001b[39;00m \u001b[38;5;21mon_draw\u001b[39m():\n\u001b[0;32m     13\u001b[0m     window\u001b[38;5;241m.\u001b[39mclear()\n\u001b[1;32m---> 14\u001b[0m     \u001b[43mlabel\u001b[49m\u001b[38;5;241;43m.\u001b[39;49m\u001b[43mdraw\u001b[49m\u001b[43m(\u001b[49m\u001b[43m)\u001b[49m\n",
      "File \u001b[1;32m~\\AppData\\Local\\Programs\\Python\\Python310\\lib\\site-packages\\pyglet\\text\\layout.py:1346\u001b[0m, in \u001b[0;36mTextLayout.draw\u001b[1;34m(self)\u001b[0m\n\u001b[0;32m   1339\u001b[0m \u001b[38;5;124;03m\"\"\"Draw this text layout.\u001b[39;00m\n\u001b[0;32m   1340\u001b[0m \n\u001b[0;32m   1341\u001b[0m \u001b[38;5;124;03mNote that this method performs very badly if a batch was supplied to\u001b[39;00m\n\u001b[0;32m   1342\u001b[0m \u001b[38;5;124;03mthe constructor.  If you add this layout to a batch, you should\u001b[39;00m\n\u001b[0;32m   1343\u001b[0m \u001b[38;5;124;03mideally use only the batch's draw method.\u001b[39;00m\n\u001b[0;32m   1344\u001b[0m \u001b[38;5;124;03m\"\"\"\u001b[39;00m\n\u001b[0;32m   1345\u001b[0m \u001b[38;5;28;01mif\u001b[39;00m \u001b[38;5;28mself\u001b[39m\u001b[38;5;241m.\u001b[39m_own_batch:\n\u001b[1;32m-> 1346\u001b[0m     \u001b[38;5;28;43mself\u001b[39;49m\u001b[38;5;241;43m.\u001b[39;49m\u001b[43m_batch\u001b[49m\u001b[38;5;241;43m.\u001b[39;49m\u001b[43mdraw\u001b[49m\u001b[43m(\u001b[49m\u001b[43m)\u001b[49m\n\u001b[0;32m   1347\u001b[0m \u001b[38;5;28;01melse\u001b[39;00m:\n\u001b[0;32m   1348\u001b[0m     \u001b[38;5;28mself\u001b[39m\u001b[38;5;241m.\u001b[39m_batch\u001b[38;5;241m.\u001b[39mdraw_subset(\u001b[38;5;28mself\u001b[39m\u001b[38;5;241m.\u001b[39m_vertex_lists)\n",
      "File \u001b[1;32m~\\AppData\\Local\\Programs\\Python\\Python310\\lib\\site-packages\\pyglet\\graphics\\__init__.py:549\u001b[0m, in \u001b[0;36mBatch.draw\u001b[1;34m(self)\u001b[0m\n\u001b[0;32m    546\u001b[0m     \u001b[38;5;28mself\u001b[39m\u001b[38;5;241m.\u001b[39m_update_draw_list()\n\u001b[0;32m    548\u001b[0m \u001b[38;5;28;01mfor\u001b[39;00m func \u001b[38;5;129;01min\u001b[39;00m \u001b[38;5;28mself\u001b[39m\u001b[38;5;241m.\u001b[39m_draw_list:\n\u001b[1;32m--> 549\u001b[0m     \u001b[43mfunc\u001b[49m\u001b[43m(\u001b[49m\u001b[43m)\u001b[49m\n",
      "File \u001b[1;32m~\\AppData\\Local\\Programs\\Python\\Python310\\lib\\site-packages\\pyglet\\graphics\\__init__.py:478\u001b[0m, in \u001b[0;36mBatch._update_draw_list.<locals>.visit.<locals>.<lambda>\u001b[1;34m()\u001b[0m\n\u001b[0;32m    476\u001b[0m         \u001b[38;5;28;01mdel\u001b[39;00m domain_map[(formats, mode, indexed, program_id)]\n\u001b[0;32m    477\u001b[0m         \u001b[38;5;28;01mcontinue\u001b[39;00m\n\u001b[1;32m--> 478\u001b[0m     draw_list\u001b[38;5;241m.\u001b[39mappend((\u001b[38;5;28;01mlambda\u001b[39;00m d, m: \u001b[38;5;28;01mlambda\u001b[39;00m: \u001b[43md\u001b[49m\u001b[38;5;241;43m.\u001b[39;49m\u001b[43mdraw\u001b[49m\u001b[43m(\u001b[49m\u001b[43mm\u001b[49m\u001b[43m)\u001b[49m)(domain, mode))\n\u001b[0;32m    480\u001b[0m \u001b[38;5;66;03m# Sort and visit child groups of this group\u001b[39;00m\n\u001b[0;32m    481\u001b[0m children \u001b[38;5;241m=\u001b[39m \u001b[38;5;28mself\u001b[39m\u001b[38;5;241m.\u001b[39mgroup_children\u001b[38;5;241m.\u001b[39mget(group)\n",
      "File \u001b[1;32m~\\AppData\\Local\\Programs\\Python\\Python310\\lib\\site-packages\\pyglet\\graphics\\vertexdomain.py:451\u001b[0m, in \u001b[0;36mIndexedVertexDomain.draw\u001b[1;34m(self, mode)\u001b[0m\n\u001b[0;32m    440\u001b[0m \u001b[38;5;28;01mdef\u001b[39;00m \u001b[38;5;21mdraw\u001b[39m(\u001b[38;5;28mself\u001b[39m, mode):\n\u001b[0;32m    441\u001b[0m     \u001b[38;5;124;03m\"\"\"Draw all vertices in the domain.\u001b[39;00m\n\u001b[0;32m    442\u001b[0m \n\u001b[0;32m    443\u001b[0m \u001b[38;5;124;03m    All vertices in the domain are drawn at once. This is the\u001b[39;00m\n\u001b[1;32m   (...)\u001b[0m\n\u001b[0;32m    449\u001b[0m \n\u001b[0;32m    450\u001b[0m \u001b[38;5;124;03m    \"\"\"\u001b[39;00m\n\u001b[1;32m--> 451\u001b[0m     \u001b[38;5;28;43mself\u001b[39;49m\u001b[38;5;241;43m.\u001b[39;49m\u001b[43mvao\u001b[49m\u001b[38;5;241;43m.\u001b[39;49m\u001b[43mbind\u001b[49m\u001b[43m(\u001b[49m\u001b[43m)\u001b[49m\n\u001b[0;32m    453\u001b[0m     \u001b[38;5;28;01mfor\u001b[39;00m buffer, attributes \u001b[38;5;129;01min\u001b[39;00m \u001b[38;5;28mself\u001b[39m\u001b[38;5;241m.\u001b[39mbuffer_attributes:\n\u001b[0;32m    454\u001b[0m         buffer\u001b[38;5;241m.\u001b[39mbind()\n",
      "File \u001b[1;32m~\\AppData\\Local\\Programs\\Python\\Python310\\lib\\site-packages\\pyglet\\graphics\\vertexarray.py:58\u001b[0m, in \u001b[0;36mVertexArray.bind\u001b[1;34m(self)\u001b[0m\n\u001b[0;32m     57\u001b[0m \u001b[38;5;28;01mdef\u001b[39;00m \u001b[38;5;21mbind\u001b[39m(\u001b[38;5;28mself\u001b[39m):\n\u001b[1;32m---> 58\u001b[0m     \u001b[43mglBindVertexArray\u001b[49m\u001b[43m(\u001b[49m\u001b[38;5;28;43mself\u001b[39;49m\u001b[38;5;241;43m.\u001b[39;49m\u001b[43m_id\u001b[49m\u001b[43m)\u001b[49m\n",
      "File \u001b[1;32m~\\AppData\\Local\\Programs\\Python\\Python310\\lib\\site-packages\\pyglet\\gl\\lib.py:114\u001b[0m, in \u001b[0;36merrcheck\u001b[1;34m(result, func, arguments)\u001b[0m\n\u001b[0;32m    106\u001b[0m     error_types \u001b[38;5;241m=\u001b[39m {\n\u001b[0;32m    107\u001b[0m         gl\u001b[38;5;241m.\u001b[39mGL_INVALID_ENUM: \u001b[38;5;124m\"\u001b[39m\u001b[38;5;124mInvalid enum. An unacceptable value is specified for an enumerated argument.\u001b[39m\u001b[38;5;124m\"\u001b[39m,\n\u001b[0;32m    108\u001b[0m         gl\u001b[38;5;241m.\u001b[39mGL_INVALID_VALUE: \u001b[38;5;124m\"\u001b[39m\u001b[38;5;124mInvalid value. A numeric argument is out of range.\u001b[39m\u001b[38;5;124m\"\u001b[39m,\n\u001b[1;32m   (...)\u001b[0m\n\u001b[0;32m    111\u001b[0m         gl\u001b[38;5;241m.\u001b[39mGL_OUT_OF_MEMORY: \u001b[38;5;124m\"\u001b[39m\u001b[38;5;124mOut of memory. There is not enough memory left to execute the command.\u001b[39m\u001b[38;5;124m\"\u001b[39m,\n\u001b[0;32m    112\u001b[0m     }\n\u001b[0;32m    113\u001b[0m     msg \u001b[38;5;241m=\u001b[39m error_types\u001b[38;5;241m.\u001b[39mget(error, \u001b[38;5;124m\"\u001b[39m\u001b[38;5;124mUnknown error\u001b[39m\u001b[38;5;124m\"\u001b[39m)\n\u001b[1;32m--> 114\u001b[0m     \u001b[38;5;28;01mraise\u001b[39;00m GLException(\u001b[38;5;124m'\u001b[39m\u001b[38;5;124m(0x\u001b[39m\u001b[38;5;132;01m%x\u001b[39;00m\u001b[38;5;124m): \u001b[39m\u001b[38;5;132;01m%s\u001b[39;00m\u001b[38;5;124m'\u001b[39m \u001b[38;5;241m%\u001b[39m (error, msg))\n\u001b[0;32m    115\u001b[0m \u001b[38;5;28;01mreturn\u001b[39;00m result\n",
      "\u001b[1;31mGLException\u001b[0m: (0x502): Invalid operation. The specified operation is not allowed in the current state."
     ]
    }
   ],
   "source": [
    "import pyglet\n",
    "\n",
    "window = pyglet.window.Window()\n",
    "\n",
    "label = pyglet.text.Label('Hello, world',\n",
    "                         font_name = \"Times New Roman\",\n",
    "                         font_size = 36,\n",
    "                         x = window.width // 2, y = windows.height // 2,\n",
    "                         anchor_x = \"center\", anchor_y = \"center\")\n",
    "\n",
    "@window.event\n",
    "def on_draw():\n",
    "    window.clear()\n",
    "    label.draw()\n",
    "\n",
    "pyglet.app.run()"
   ]
  },
  {
   "cell_type": "markdown",
   "id": "38f7ad16-6f84-4c38-83c6-06ce2ff938a9",
   "metadata": {},
   "source": [
    "## Exercise 85\n",
    "\n",
    "Question: Please download the attached countries-raw.txt file. The file contains the list of country names, but it also contains some unnecessary text among the countries. \n",
    "\n",
    "Please clean the list with Python by generating a new text file that contains a flawless list of country names without any other text or brake lines in it. The new file content should look like in the expected output.\n",
    "\n",
    "Expected output: \n",
    "```\n",
    "Afghanistan\n",
    "Albania\n",
    "Algeria\n",
    "Andorra\n",
    "Angola\n",
    "Antigua and Barbuda\n",
    "Argentina\n",
    "Armenia\n",
    "Aruba\n",
    "Australia\n",
    "Austria\n",
    "Azerbaijan\n",
    "Bahamas, The\n",
    "Bahrain\n",
    "Bangladesh\n",
    "Barbados\n",
    "Belarus\n",
    "Belgium\n",
    "Belize\n",
    "Benin\n",
    "Bhutan\n",
    "Bolivia\n",
    "Bosnia and Herzegovina\n",
    "Botswana\n",
    "Brazil\n",
    "Brunei\n",
    "Bulgaria\n",
    "Burkina Faso\n",
    "Burma\n",
    "Burundi\n",
    "Cambodia\n",
    "Cameroon\n",
    "Canada\n",
    "Cabo Verde\n",
    "Central African Republic\n",
    "Chad\n",
    "Chile\n",
    "China\n",
    "Colombia\n",
    "Comoros\n",
    "Congo, Democratic Republic of the\n",
    "Congo, Republic of the\n",
    "Costa Rica\n",
    "Cote d'Ivoire\n",
    "Croatia\n",
    "Cuba\n",
    "Curacao\n",
    "Cyprus\n",
    "Czechia\n",
    "Denmark\n",
    "Djibouti\n",
    "Dominica\n",
    "Dominican Republic\n",
    "East Timor (see Timor-Leste)\n",
    "Ecuador\n",
    "Egypt\n",
    "El Salvador\n",
    "Equatorial Guinea\n",
    "Eritrea\n",
    "Estonia\n",
    "Ethiopia\n",
    "Fiji\n",
    "Finland\n",
    "France\n",
    "Gabon\n",
    "Gambia, The\n",
    "Georgia\n",
    "Germany\n",
    "Ghana\n",
    "Greece\n",
    "Grenada\n",
    "Guatemala\n",
    "Guinea\n",
    "Guinea-Bissau\n",
    "Guyana\n",
    "Haiti\n",
    "Holy See\n",
    "Honduras\n",
    "Hong Kong\n",
    "Hungary\n",
    "Iceland\n",
    "India\n",
    "Indonesia\n",
    "Iran\n",
    "Iraq\n",
    "Ireland\n",
    "Israel\n",
    "Italy\n",
    "Jamaica\n",
    "Japan\n",
    "Jordan\n",
    "Kazakhstan\n",
    "Kenya\n",
    "Kiribati\n",
    "Korea, North\n",
    "Korea, South\n",
    "Kosovo\n",
    "Kuwait\n",
    "Kyrgyzstan\n",
    "Laos\n",
    "Latvia\n",
    "Lebanon\n",
    "Lesotho\n",
    "Liberia\n",
    "Libya\n",
    "Liechtenstein\n",
    "Lithuania\n",
    "Luxembourg\n",
    "Macau\n",
    "Macedonia\n",
    "Madagascar\n",
    "Malawi\n",
    "Malaysia\n",
    "Maldives\n",
    "Mali\n",
    "Malta\n",
    "Marshall Islands\n",
    "Mauritania\n",
    "Mauritius\n",
    "Mexico\n",
    "Micronesia\n",
    "Moldova\n",
    "Monaco\n",
    "Mongolia\n",
    "Montenegro\n",
    "Morocco\n",
    "Mozambique\n",
    "Namibia\n",
    "Nauru\n",
    "Nepal\n",
    "Netherlands\n",
    "New Zealand\n",
    "Nicaragua\n",
    "Niger\n",
    "Nigeria\n",
    "North Korea\n",
    "Norway\n",
    "Oman\n",
    "Pakistan\n",
    "Palau\n",
    "Palestinian Territories\n",
    "Panama\n",
    "Papua New Guinea\n",
    "Paraguay\n",
    "Peru\n",
    "Philippines\n",
    "Poland\n",
    "Portugal\n",
    "Qatar\n",
    "Romania\n",
    "Russia\n",
    "Rwanda\n",
    "Saint Kitts and Nevis\n",
    "Saint Lucia\n",
    "Saint Vincent and the Grenadines\n",
    "Samoa\n",
    "San Marino\n",
    "Sao Tome and Principe\n",
    "Saudi Arabia\n",
    "Senegal\n",
    "Serbia\n",
    "Seychelles\n",
    "Sierra Leone\n",
    "Singapore\n",
    "Sint Maarten\n",
    "Slovakia\n",
    "Slovenia\n",
    "Solomon Islands\n",
    "Somalia\n",
    "South Africa\n",
    "South Korea\n",
    "South Sudan\n",
    "Spain\n",
    "Sri Lanka\n",
    "Sudan\n",
    "Suriname\n",
    "Swaziland\n",
    "Sweden\n",
    "Switzerland\n",
    "Syria\n",
    "Taiwan\n",
    "Tajikistan\n",
    "Tanzania\n",
    "Thailand\n",
    "Timor-Leste\n",
    "Togo\n",
    "Tonga\n",
    "Trinidad and Tobago\n",
    "Tunisia\n",
    "Turkey\n",
    "Turkmenistan\n",
    "Tuvalu\n",
    "Uganda\n",
    "Ukraine\n",
    "United Arab Emirates\n",
    "United Kingdom\n",
    "Uruguay\n",
    "Uzbekistan\n",
    "Vanuatu\n",
    "Venezuela\n",
    "Vietnam\n",
    "Yemen\n",
    "Zambia\n",
    "Zimbabwe\n",
    "```"
   ]
  },
  {
   "cell_type": "code",
   "execution_count": 3,
   "id": "4ec8af4d-f54c-466d-ad2c-5fbbbde1ca0e",
   "metadata": {},
   "outputs": [
    {
     "name": "stdout",
     "output_type": "stream",
     "text": [
      "['Afghanistan', 'Albania', 'Algeria', 'Andorra', 'Angola', 'Antigua and Barbuda', 'Argentina', 'Armenia', 'Aruba', 'Australia', 'Austria', 'Azerbaijan', 'Bahamas, The', 'Bahrain', 'Bangladesh', 'Barbados', 'Belarus', 'Belgium', 'Belize', 'Benin', 'Bhutan', 'Bolivia', 'Bosnia and Herzegovina', 'Botswana', 'Brazil', 'Brunei', 'Bulgaria', 'Burkina Faso', 'Burma', 'Burundi', 'Cambodia', 'Cameroon', 'Canada', 'Cabo Verde', 'Central African Republic', 'Chad', 'Chile', 'China', 'Colombia', 'Comoros', 'Congo, Democratic Republic of the', 'Congo, Republic of the', 'Costa Rica', \"Cote d'Ivoire\", 'Croatia', 'Cuba', 'Curacao', 'Cyprus', 'Czechia', 'Denmark', 'Djibouti', 'Dominica', 'Dominican Republic', 'East Timor (see Timor-Leste)', 'Ecuador', 'Egypt', 'El Salvador', 'Equatorial Guinea', 'Eritrea', 'Estonia', 'Ethiopia', 'Fiji', 'Finland', 'France', 'Gabon', 'Gambia, The', 'Georgia', 'Germany', 'Ghana', 'Greece', 'Grenada', 'Guatemala', 'Guinea', 'Guinea-Bissau', 'Guyana', 'Haiti', 'Holy See', 'Honduras', 'Hong Kong', 'Hungary', 'Iceland', 'India', 'Indonesia', 'Iran', 'Iraq', 'Ireland', 'Israel', 'Italy', 'Jamaica', 'Japan', 'Jordan', 'Kazakhstan', 'Kenya', 'Kiribati', 'Korea, North', 'Korea, South', 'Kosovo', 'Kuwait', 'Kyrgyzstan', 'Laos', 'Latvia', 'Lebanon', 'Lesotho', 'Liberia', 'Libya', 'Liechtenstein', 'Lithuania', 'Luxembourg', 'Macau', 'Macedonia', 'Madagascar', 'Malawi', 'Malaysia', 'Maldives', 'Mali', 'Malta', 'Marshall Islands', 'Mauritania', 'Mauritius', 'Mexico', 'Micronesia', 'Moldova', 'Monaco', 'Mongolia', 'Montenegro', 'Morocco', 'Mozambique', 'Namibia', 'Nauru', 'Nepal', 'Netherlands', 'New Zealand', 'Nicaragua', 'Niger', 'Nigeria', 'North Korea', 'Norway', 'Oman', 'Pakistan', 'Palau', 'Palestinian Territories', 'Panama', 'Papua New Guinea', 'Paraguay', 'Peru', 'Philippines', 'Poland', 'Portugal', 'Qatar', 'Romania', 'Russia', 'Rwanda', 'Saint Kitts and Nevis', 'Saint Lucia', 'Saint Vincent and the Grenadines', 'Samoa', 'San Marino', 'Sao Tome and Principe', 'Saudi Arabia', 'Senegal', 'Serbia', 'Seychelles', 'Sierra Leone', 'Singapore', 'Sint Maarten', 'Slovakia', 'Slovenia', 'Solomon Islands', 'Somalia', 'South Africa', 'South Korea', 'South Sudan', 'Spain', 'Sri Lanka', 'Sudan', 'Suriname', 'Swaziland', 'Sweden', 'Switzerland', 'Syria', 'Taiwan', 'Tajikistan', 'Tanzania', 'Thailand', 'Timor-Leste', 'Togo', 'Tonga', 'Trinidad and Tobago', 'Tunisia', 'Turkey', 'Turkmenistan', 'Tuvalu', 'Uganda', 'Ukraine', 'United Arab Emirates', 'United Kingdom', 'Uruguay', 'Uzbekistan', 'Vanuatu', 'Venezuela', 'Vietnam', 'Yemen', 'Zambia', 'Zimbabwe']\n"
     ]
    }
   ],
   "source": [
    "with open(\"countries_raw.txt\", \"r\") as file:\n",
    "    content = file.readlines()\n",
    "\n",
    "content = [i.strip(\"\\n\") for i in content if \"\\n\" in i]\n",
    "content = [i for i in content if i != \"\"]\n",
    "content = [i for i in content if i != \"Top of Page\"]\n",
    "content = [i for i in content if len(i) != 1]\n",
    "\n",
    "print(content)\n",
    "\n",
    "with open(\"countries_clean.txt\", \"w\") as file:\n",
    "    for i in content:\n",
    "        file.write(i + \"\\n\")"
   ]
  },
  {
   "cell_type": "markdown",
   "id": "633f0602-9c64-4256-b5f7-d7642bc72566",
   "metadata": {},
   "source": [
    "## Exercise 86"
   ]
  },
  {
   "cell_type": "code",
   "execution_count": 6,
   "id": "b488bb4b-5e2e-4c63-982b-c7be27811d80",
   "metadata": {},
   "outputs": [
    {
     "name": "stdout",
     "output_type": "stream",
     "text": [
      "['Germany', 'Portugal', 'Spain']\n"
     ]
    }
   ],
   "source": [
    "checklist = [\"Portugal\", \"Germany\", \"Munster\", \"Spain\"]\n",
    "\n",
    "with open(\"countries_clean.txt\", \"r\") as file:\n",
    "    content = file.readlines()\n",
    "\n",
    "content = [i.rstrip('\\n') for i in content]\n",
    "checked = [i for i in content if i in checklist]\n",
    "\n",
    "print(checked)"
   ]
  },
  {
   "cell_type": "markdown",
   "id": "b78ea6bb-0c01-4f7b-86d0-22a719522e04",
   "metadata": {},
   "source": [
    "## Exercise 87"
   ]
  },
  {
   "cell_type": "code",
   "execution_count": 3,
   "id": "f290bc22-412e-4b5c-9893-8dea90c6c12c",
   "metadata": {},
   "outputs": [],
   "source": [
    "checklist = [\"Portugal\", \"Germany\", \"Spain\"]\n",
    "checklist = [i + \"\\n\" for i in checklist]\n",
    "\n",
    "with open(\"countries_missing.txt\", \"r\") as file:\n",
    "    content = file.readlines()\n",
    "    \n",
    "updated_list = sorted(checklist + content)\n",
    "\n",
    "with open(\"countries_missing_fixed.txt\", \"w\") as file:\n",
    "    for i in updated_list:\n",
    "        file.write(i)"
   ]
  },
  {
   "cell_type": "markdown",
   "id": "c2f062b7-9001-49c2-b88d-fa8468717c2f",
   "metadata": {},
   "source": [
    "## Exercise 88"
   ]
  },
  {
   "cell_type": "code",
   "execution_count": 5,
   "id": "f8a85309-066e-46fa-a33a-38ca858961d1",
   "metadata": {},
   "outputs": [
    {
     "name": "stdout",
     "output_type": "stream",
     "text": [
      "India\n",
      "Pakistan\n",
      "Nigeria\n",
      "China\n",
      "Indonesia\n"
     ]
    }
   ],
   "source": [
    "import pandas\n",
    "\n",
    "data = pandas.read_csv(\"countries-by-area.txt\")\n",
    "data[\"density\"] = data[\"population_2013\"] / data[\"area_sqkm\"]\n",
    "data = data.sort_values(by=\"density\", ascending=False)\n",
    "\n",
    "for index, row in data[:5].iterrows():\n",
    "    print(row[\"country\"])"
   ]
  },
  {
   "cell_type": "markdown",
   "id": "a456346a-732a-49e6-a5a6-33a2d2759c0f",
   "metadata": {},
   "source": [
    "## Exercise 89"
   ]
  },
  {
   "cell_type": "code",
   "execution_count": 6,
   "id": "4cb4cde9-c6c0-4bb0-b03f-ee6abcf4f7b8",
   "metadata": {},
   "outputs": [
    {
     "ename": "OperationalError",
     "evalue": "no such table: countries",
     "output_type": "error",
     "traceback": [
      "\u001b[1;31m---------------------------------------------------------------------------\u001b[0m",
      "\u001b[1;31mOperationalError\u001b[0m                          Traceback (most recent call last)",
      "Input \u001b[1;32mIn [6]\u001b[0m, in \u001b[0;36m<cell line: 5>\u001b[1;34m()\u001b[0m\n\u001b[0;32m      3\u001b[0m conn \u001b[38;5;241m=\u001b[39m sqlite3\u001b[38;5;241m.\u001b[39mconnect(\u001b[38;5;124m\"\u001b[39m\u001b[38;5;124mdatabase.db\u001b[39m\u001b[38;5;124m\"\u001b[39m)\n\u001b[0;32m      4\u001b[0m cur \u001b[38;5;241m=\u001b[39m conn\u001b[38;5;241m.\u001b[39mcursor()\n\u001b[1;32m----> 5\u001b[0m \u001b[43mcur\u001b[49m\u001b[38;5;241;43m.\u001b[39;49m\u001b[43mexecute\u001b[49m\u001b[43m(\u001b[49m\u001b[38;5;124;43m\"\u001b[39;49m\u001b[38;5;124;43mSELECT country FROM countries WHERE area >= 2000000\u001b[39;49m\u001b[38;5;124;43m\"\u001b[39;49m\u001b[43m)\u001b[49m\n\u001b[0;32m      6\u001b[0m rows \u001b[38;5;241m=\u001b[39m cur\u001b[38;5;241m.\u001b[39mfetchall()\n\u001b[0;32m      7\u001b[0m conn\u001b[38;5;241m.\u001b[39mclose()\n",
      "\u001b[1;31mOperationalError\u001b[0m: no such table: countries"
     ]
    }
   ],
   "source": [
    "import sqlite3\n",
    "\n",
    "conn = sqlite3.connect(\"database.db\")\n",
    "cur = conn.cursor()\n",
    "cur.execute(\"SELECT country FROM countries WHERE area >= 2000000\")\n",
    "rows = cur.fetchall()\n",
    "conn.close()\n",
    "\n",
    "for i in rows:\n",
    "    print(i[0])"
   ]
  },
  {
   "cell_type": "markdown",
   "id": "4d2de7c3-7e5c-4e95-a6e9-40d7be4c8e50",
   "metadata": {},
   "source": [
    "## Exercise 90"
   ]
  },
  {
   "cell_type": "code",
   "execution_count": 5,
   "id": "a5236694-9fa2-4964-8484-296f6f6851da",
   "metadata": {},
   "outputs": [],
   "source": [
    "import sqlite3\n",
    "import pandas\n",
    "\n",
    "conn = sqlite3.connect(\"database.db\")\n",
    "cur = conn.cursor()\n",
    "cur.execute(\"SELECT * FROM countries WHERE area >= 2000000\")\n",
    "rows = cur.fetchall()\n",
    "conn.close()\n",
    "\n",
    "df = pandas.DataFrame.from_records(rows)\n",
    "df.columns = [\"Rank\", \"Country\", \"Area\", \"Population\"]\n",
    "df.to_csv(\"countries_big_area.csv\", index = False)"
   ]
  },
  {
   "cell_type": "markdown",
   "id": "bde7dcb0-a382-421c-a318-cd6647dd3f6f",
   "metadata": {},
   "source": [
    "## Exercise 91"
   ]
  },
  {
   "cell_type": "code",
   "execution_count": 8,
   "id": "4af536fe-5a9d-44fd-9dc6-edb495ae7e67",
   "metadata": {},
   "outputs": [
    {
     "name": "stdout",
     "output_type": "stream",
     "text": [
      "Spain 499401\n",
      "Turkmenistan 488100\n",
      "Cameroon 469440\n",
      "Papua New Guinea 451709\n",
      "Uzbekistan 447400\n",
      "Morocco 446301\n",
      "Iraq 433970\n",
      "Sweden 411621\n",
      "Paraguay 397301\n",
      "Japan 394744\n"
     ]
    }
   ],
   "source": [
    "import sqlite3\n",
    "import pandas\n",
    "\n",
    "data = pandas.read_csv(\"ten-more-countries.txt\")\n",
    "\n",
    "conn = sqlite3.connect(\"database.db\")\n",
    "cur = conn.cursor()\n",
    "\n",
    "for index, row in data.iterrows():\n",
    "    print(row[\"Country\"], row[\"Area\"])\n",
    "    cur.execute(\"INSERT INTO countries VALUES (NULL, ?, ?, NULL)\", (row[\"Country\"], row[\"Area\"]))\n",
    "    \n",
    "conn.commit()\n",
    "conn.close()"
   ]
  },
  {
   "cell_type": "markdown",
   "id": "7494806f-207f-4f33-b83b-65040415e882",
   "metadata": {},
   "source": [
    "## Exercise 92"
   ]
  },
  {
   "cell_type": "code",
   "execution_count": 9,
   "id": "7c33a8dc-09f0-4a87-b512-fe82e8802b99",
   "metadata": {},
   "outputs": [
    {
     "name": "stdout",
     "output_type": "stream",
     "text": [
      "0\n"
     ]
    }
   ],
   "source": [
    "import glob\n",
    "\n",
    "file_list=glob.glob1(\"files\",\"*.py\")\n",
    "print(len(file_list))"
   ]
  },
  {
   "cell_type": "markdown",
   "id": "8e2e8959-c252-486e-bbe0-2763e57144b7",
   "metadata": {},
   "source": [
    "## Exercise 93"
   ]
  },
  {
   "cell_type": "code",
   "execution_count": 10,
   "id": "b320f4ba-9e18-471a-b484-c7b52f56bc44",
   "metadata": {},
   "outputs": [
    {
     "name": "stdout",
     "output_type": "stream",
     "text": [
      "0\n"
     ]
    }
   ],
   "source": [
    "import glob\n",
    "\n",
    "file_list = glob.glob(\"subdirs/**/*.py\", recursive=True)\n",
    "print(len(file_list))"
   ]
  },
  {
   "cell_type": "markdown",
   "id": "afb440af-1c10-497f-90f4-ecc6d52f441a",
   "metadata": {},
   "source": [
    "## Exercise 94 ~ 100\n",
    "\n",
    "接下来的内容涉及到flask，GUI之类的，不在此jupyter中完成。"
   ]
  }
 ],
 "metadata": {
  "kernelspec": {
   "display_name": "Python 3 (ipykernel)",
   "language": "python",
   "name": "python3"
  },
  "language_info": {
   "codemirror_mode": {
    "name": "ipython",
    "version": 3
   },
   "file_extension": ".py",
   "mimetype": "text/x-python",
   "name": "python",
   "nbconvert_exporter": "python",
   "pygments_lexer": "ipython3",
   "version": "3.10.5"
  }
 },
 "nbformat": 4,
 "nbformat_minor": 5
}
